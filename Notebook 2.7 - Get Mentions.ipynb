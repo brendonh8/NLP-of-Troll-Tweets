{
 "cells": [
  {
   "cell_type": "code",
   "execution_count": 36,
   "metadata": {},
   "outputs": [],
   "source": [
    "import pandas as pd\n",
    "import string\n",
    "import re\n",
    "import os\n",
    "from datetime import datetime\n",
    "import pickle"
   ]
  },
  {
   "cell_type": "code",
   "execution_count": 6,
   "metadata": {},
   "outputs": [],
   "source": [
    "tweet_column = 'content'"
   ]
  },
  {
   "cell_type": "code",
   "execution_count": 8,
   "metadata": {},
   "outputs": [
    {
     "name": "stdout",
     "output_type": "stream",
     "text": [
      "Wrote File: 1\n",
      "Wrote File: 2\n",
      "Wrote File: 3\n",
      "Wrote File: 4\n",
      "Wrote File: 5\n",
      "Wrote File: 6\n"
     ]
    },
    {
     "name": "stderr",
     "output_type": "stream",
     "text": [
      "/home/ubuntu/anaconda3/lib/python3.7/site-packages/IPython/core/interactiveshell.py:2785: DtypeWarning: Columns (0,15,20) have mixed types. Specify dtype option on import or set low_memory=False.\n",
      "  interactivity=interactivity, compiler=compiler, result=result)\n"
     ]
    },
    {
     "name": "stdout",
     "output_type": "stream",
     "text": [
      "Wrote File: 7\n",
      "Wrote File: 8\n",
      "Wrote File: 9\n",
      "Wrote File: 10\n",
      "Wrote File: 11\n"
     ]
    },
    {
     "name": "stderr",
     "output_type": "stream",
     "text": [
      "/home/ubuntu/anaconda3/lib/python3.7/site-packages/IPython/core/interactiveshell.py:2785: DtypeWarning: Columns (10,20) have mixed types. Specify dtype option on import or set low_memory=False.\n",
      "  interactivity=interactivity, compiler=compiler, result=result)\n"
     ]
    },
    {
     "name": "stdout",
     "output_type": "stream",
     "text": [
      "Wrote File: 12\n"
     ]
    },
    {
     "name": "stderr",
     "output_type": "stream",
     "text": [
      "/home/ubuntu/anaconda3/lib/python3.7/site-packages/IPython/core/interactiveshell.py:2785: DtypeWarning: Columns (20) have mixed types. Specify dtype option on import or set low_memory=False.\n",
      "  interactivity=interactivity, compiler=compiler, result=result)\n"
     ]
    },
    {
     "name": "stdout",
     "output_type": "stream",
     "text": [
      "Wrote File: 13\n"
     ]
    }
   ],
   "source": [
    "file_number = 0\n",
    "for (dirname, dirs, files) in os.walk('raw_files'):\n",
    "        for filename in files:\n",
    "            file_number += 1\n",
    "            if filename.endswith('.csv'):\n",
    "                df_tweets_full = pd.read_csv(os.path.join('raw_files', filename), encoding='utf-8')\n",
    "            df_english = df_tweets_full[df_tweets_full.language == 'English']\n",
    "            df_english = df_english[pd.notnull(df_english[tweet_column])]\n",
    "            unneeded_col = ['external_author_id', 'harvested_date', 'region', 'language', 'publish_date', 'account_type',\n",
    "                            'alt_external_id', 'article_url', 'following', 'followers', 'updates', 'post_type',\n",
    "                            'tco1_step1', 'tco2_step1', 'tco3_step1', 'new_june_2018', 'retweet', 'account_category']\n",
    "            df_english.drop(unneeded_col, axis=1, inplace=True)\n",
    "            \n",
    "            if not os.path.exists('unclean_pickles'):\n",
    "                os.makedirs('unclean_pickles')\n",
    "            df_english.to_pickle('unclean_pickles/tweets' + str(file_number) + '.pkl')\n",
    "            print('Wrote File:', str(file_number))"
   ]
  },
  {
   "cell_type": "code",
   "execution_count": 9,
   "metadata": {},
   "outputs": [],
   "source": [
    "full_df_list = []\n",
    "\n",
    "for (dirname, dirs, files) in os.walk('unclean_pickles'):\n",
    "    for filename in files:\n",
    "        with open(os.path.join('unclean_pickles', filename), 'rb') as f:\n",
    "            full_df_list.append(pd.read_pickle(f))"
   ]
  },
  {
   "cell_type": "code",
   "execution_count": 10,
   "metadata": {},
   "outputs": [],
   "source": [
    "full_df = pd.concat(full_df_list, axis=0, ignore_index=True)"
   ]
  },
  {
   "cell_type": "code",
   "execution_count": 11,
   "metadata": {},
   "outputs": [
    {
     "data": {
      "text/plain": [
       "Index(['author', 'content', 'tweet_id'], dtype='object')"
      ]
     },
     "execution_count": 11,
     "metadata": {},
     "output_type": "execute_result"
    }
   ],
   "source": [
    "full_df.columns"
   ]
  },
  {
   "cell_type": "code",
   "execution_count": 24,
   "metadata": {},
   "outputs": [],
   "source": [
    "mentions = []\n",
    "for tweet in full_df.content:\n",
    "    mentions.append(re.findall(\"(^|[^@\\w])@(\\w{1,15})\", tweet))"
   ]
  },
  {
   "cell_type": "code",
   "execution_count": 17,
   "metadata": {},
   "outputs": [],
   "source": [
    "def extract_hash_tags(s):\n",
    "    return set(part[1:] for part in s.split() if part.startswith('#'))"
   ]
  },
  {
   "cell_type": "code",
   "execution_count": 20,
   "metadata": {},
   "outputs": [],
   "source": [
    "hashtag = []\n",
    "for tweet in full_df.content:\n",
    "    hashtag.append(extract_hash_tags(tweet))"
   ]
  },
  {
   "cell_type": "code",
   "execution_count": 30,
   "metadata": {},
   "outputs": [],
   "source": [
    "full_df['hashtags'] = hashtag\n",
    "full_df['mentions'] = mentions\n"
   ]
  },
  {
   "cell_type": "code",
   "execution_count": 34,
   "metadata": {
    "scrolled": true
   },
   "outputs": [
    {
     "data": {
      "text/html": [
       "<div>\n",
       "<style scoped>\n",
       "    .dataframe tbody tr th:only-of-type {\n",
       "        vertical-align: middle;\n",
       "    }\n",
       "\n",
       "    .dataframe tbody tr th {\n",
       "        vertical-align: top;\n",
       "    }\n",
       "\n",
       "    .dataframe thead th {\n",
       "        text-align: right;\n",
       "    }\n",
       "</style>\n",
       "<table border=\"1\" class=\"dataframe\">\n",
       "  <thead>\n",
       "    <tr style=\"text-align: right;\">\n",
       "      <th></th>\n",
       "      <th>author</th>\n",
       "      <th>content</th>\n",
       "      <th>tweet_id</th>\n",
       "      <th>hashtags</th>\n",
       "      <th>mentions</th>\n",
       "    </tr>\n",
       "  </thead>\n",
       "  <tbody>\n",
       "    <tr>\n",
       "      <th>0</th>\n",
       "      <td>SEATTLE_POST</td>\n",
       "      <td>Israeli police say Palestinian home in West Ba...</td>\n",
       "      <td>679252328986238977</td>\n",
       "      <td>{news}</td>\n",
       "      <td>[]</td>\n",
       "    </tr>\n",
       "    <tr>\n",
       "      <th>1</th>\n",
       "      <td>SEATTLE_POST</td>\n",
       "      <td>Former IAAF chief Lamine Diack faces new corru...</td>\n",
       "      <td>679259242541395972</td>\n",
       "      <td>{sports}</td>\n",
       "      <td>[]</td>\n",
       "    </tr>\n",
       "    <tr>\n",
       "      <th>2</th>\n",
       "      <td>SEATTLE_POST</td>\n",
       "      <td>SpaceX launches rocket 6 months after accident...</td>\n",
       "      <td>679265189372407808</td>\n",
       "      <td>{local}</td>\n",
       "      <td>[]</td>\n",
       "    </tr>\n",
       "    <tr>\n",
       "      <th>3</th>\n",
       "      <td>SEATTLE_POST</td>\n",
       "      <td>The Latest: Fatalities feared in I-49 crash in...</td>\n",
       "      <td>679275250069078016</td>\n",
       "      <td>{news}</td>\n",
       "      <td>[]</td>\n",
       "    </tr>\n",
       "    <tr>\n",
       "      <th>4</th>\n",
       "      <td>SEATTLE_POST</td>\n",
       "      <td>Danish “Graceland” museum changes name after l...</td>\n",
       "      <td>679287094682902528</td>\n",
       "      <td>{entertainment}</td>\n",
       "      <td>[]</td>\n",
       "    </tr>\n",
       "  </tbody>\n",
       "</table>\n",
       "</div>"
      ],
      "text/plain": [
       "         author                                            content  \\\n",
       "0  SEATTLE_POST  Israeli police say Palestinian home in West Ba...   \n",
       "1  SEATTLE_POST  Former IAAF chief Lamine Diack faces new corru...   \n",
       "2  SEATTLE_POST  SpaceX launches rocket 6 months after accident...   \n",
       "3  SEATTLE_POST  The Latest: Fatalities feared in I-49 crash in...   \n",
       "4  SEATTLE_POST  Danish “Graceland” museum changes name after l...   \n",
       "\n",
       "             tweet_id         hashtags mentions  \n",
       "0  679252328986238977           {news}       []  \n",
       "1  679259242541395972         {sports}       []  \n",
       "2  679265189372407808          {local}       []  \n",
       "3  679275250069078016           {news}       []  \n",
       "4  679287094682902528  {entertainment}       []  "
      ]
     },
     "execution_count": 34,
     "metadata": {},
     "output_type": "execute_result"
    }
   ],
   "source": [
    "full_df.head()"
   ]
  },
  {
   "cell_type": "code",
   "execution_count": 37,
   "metadata": {},
   "outputs": [],
   "source": [
    "with open('hashtag_mention_df.pickle', 'wb') as file:\n",
    "    pickle.dump(full_df, file, protocol=pickle.HIGHEST_PROTOCOL)"
   ]
  },
  {
   "cell_type": "code",
   "execution_count": null,
   "metadata": {},
   "outputs": [],
   "source": []
  }
 ],
 "metadata": {
  "kernelspec": {
   "display_name": "Python 3",
   "language": "python",
   "name": "python3"
  },
  "language_info": {
   "codemirror_mode": {
    "name": "ipython",
    "version": 3
   },
   "file_extension": ".py",
   "mimetype": "text/x-python",
   "name": "python",
   "nbconvert_exporter": "python",
   "pygments_lexer": "ipython3",
   "version": "3.6.6"
  }
 },
 "nbformat": 4,
 "nbformat_minor": 2
}

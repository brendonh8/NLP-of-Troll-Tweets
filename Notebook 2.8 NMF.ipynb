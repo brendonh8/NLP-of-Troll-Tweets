{
 "cells": [
  {
   "cell_type": "markdown",
   "metadata": {},
   "source": [
    "### Project 4\n",
    "### Brendon Happ\n",
    "### NLP"
   ]
  },
  {
   "cell_type": "code",
   "execution_count": 1,
   "metadata": {},
   "outputs": [
    {
     "data": {
      "text/html": [
       "<script>requirejs.config({paths: { 'plotly': ['https://cdn.plot.ly/plotly-latest.min']},});if(!window.Plotly) {{require(['plotly'],function(plotly) {window.Plotly=plotly;});}}</script>"
      ],
      "text/vnd.plotly.v1+html": [
       "<script>requirejs.config({paths: { 'plotly': ['https://cdn.plot.ly/plotly-latest.min']},});if(!window.Plotly) {{require(['plotly'],function(plotly) {window.Plotly=plotly;});}}</script>"
      ]
     },
     "metadata": {},
     "output_type": "display_data"
    }
   ],
   "source": [
    "import pandas as pd\n",
    "import numpy as np\n",
    "import os\n",
    "import pickle\n",
    "import re\n",
    "from smart_open import smart_open\n",
    "from time import time\n",
    "\n",
    "import nltk\n",
    "from nltk.corpus import stopwords\n",
    "from nltk.stem import WordNetLemmatizer\n",
    "from nltk.stem.snowball import SnowballStemmer\n",
    "from nltk.stem.porter import PorterStemmer\n",
    "from nltk.sentiment.vader import SentimentIntensityAnalyzer as sia\n",
    "\n",
    "import spacy\n",
    "\n",
    "from sklearn.feature_extraction.text import CountVectorizer\n",
    "from sklearn.feature_extraction.text import TfidfVectorizer,TfidfTransformer \n",
    "from sklearn.cluster import KMeans\n",
    "from sklearn.preprocessing import normalize\n",
    "from sklearn.decomposition import NMF, TruncatedSVD\n",
    "\n",
    "import gensim\n",
    "from gensim import corpora, models, similarities, matutils\n",
    "from gensim.models.phrases import Phraser, Phrases\n",
    "from gensim.models.ldamulticore import LdaMulticore\n",
    "\n",
    "import matplotlib.pyplot as plt\n",
    "\n",
    "#plotly\n",
    "from plotly import __version__\n",
    "from plotly.offline import download_plotlyjs, init_notebook_mode, plot, iplot\n",
    "from plotly.grid_objs import Grid, Column #sliders\n",
    "import plotly.graph_objs as go #horizontal bar charts\n",
    "import plotly.plotly as py\n",
    "from plotly import tools #side by side\n",
    "init_notebook_mode(connected=True)"
   ]
  },
  {
   "cell_type": "code",
   "execution_count": 2,
   "metadata": {},
   "outputs": [],
   "source": [
    "full_df_list = []\n",
    "\n",
    "for (dirname, dirs, files) in os.walk('clean_pickles'):\n",
    "    for filename in files:\n",
    "        with open(os.path.join('clean_pickles', filename), 'rb') as f:\n",
    "            full_df_list.append(pd.read_pickle(f))"
   ]
  },
  {
   "cell_type": "code",
   "execution_count": 3,
   "metadata": {},
   "outputs": [],
   "source": [
    "full_df = pd.concat(full_df_list, axis=0, ignore_index=True)"
   ]
  },
  {
   "cell_type": "code",
   "execution_count": 4,
   "metadata": {},
   "outputs": [],
   "source": [
    "with open('bi_tweets.pickle', 'rb') as f:\n",
    "    bi_tweets = pd.read_pickle(f)"
   ]
  },
  {
   "cell_type": "code",
   "execution_count": 5,
   "metadata": {},
   "outputs": [],
   "source": [
    "with open('hashtag_mention_df.pickle', 'rb') as f:\n",
    "    hashtag_mention_df = pd.read_pickle(f)"
   ]
  },
  {
   "cell_type": "code",
   "execution_count": 6,
   "metadata": {},
   "outputs": [],
   "source": [
    "full_df = full_df.merge(hashtag_mention_df, on='tweet_id')"
   ]
  },
  {
   "cell_type": "code",
   "execution_count": 7,
   "metadata": {},
   "outputs": [],
   "source": [
    "hashtags = full_df.hashtags.tolist()"
   ]
  },
  {
   "cell_type": "code",
   "execution_count": 8,
   "metadata": {},
   "outputs": [],
   "source": [
    "hashtags = [list(x) for x in hashtags]"
   ]
  },
  {
   "cell_type": "code",
   "execution_count": 14,
   "metadata": {
    "scrolled": true
   },
   "outputs": [],
   "source": [
    "hashtags2 = []\n",
    "for lst in hashtags:\n",
    "    hashtags2.append(['#'+x for x in lst])"
   ]
  },
  {
   "cell_type": "markdown",
   "metadata": {},
   "source": [
    "### Apply Hashtags"
   ]
  },
  {
   "cell_type": "code",
   "execution_count": 18,
   "metadata": {},
   "outputs": [],
   "source": [
    "hashtag_bi_tweets = [a + b for a, b in zip(bi_tweets, hashtags2)]"
   ]
  },
  {
   "cell_type": "code",
   "execution_count": 21,
   "metadata": {},
   "outputs": [],
   "source": [
    "string_tweets = []\n",
    "for tweet in hashtag_bi_tweets:\n",
    "    string_tweets.append(' '.join(word.strip() for word in tweet))"
   ]
  },
  {
   "cell_type": "code",
   "execution_count": 22,
   "metadata": {},
   "outputs": [],
   "source": [
    "string_tweets = pd.Series(string_tweets)"
   ]
  },
  {
   "cell_type": "code",
   "execution_count": 23,
   "metadata": {},
   "outputs": [],
   "source": [
    "additional_stop_word_list = ['need', 'get', 'go', 'time', 'done', 'got', 'pre', 'lol', 'wanna', 'actually',\n",
    "                             'im', 'just', 'like', 'want', 'gotta', 'dont', 'rt', 'retweet', 'amp', 'rr',\n",
    "                             'mar', 'america', 'work', 'going', 'gonna', 'buddy', 'did', 'ready', 'true', \n",
    "                             'fall', 'year', 'thing', 'world', 'new', 'video', 'make', 'look', 'sure', \n",
    "                             'sense', 'new', 'happen', 'difference', 'let', 'come', 'say', 'tweet', 'medium', \n",
    "                             'think', 'way', 'know', 'friend', 'tell', 'try', 'wait', 'start', 'count', 'lot',\n",
    "                             'hear', 'ill', 'home', 'house', 'bout', 'lil', 'yes', 'help', 'talk', 'guess',\n",
    "                             #Descriptive\n",
    "                             'feeling', 'good', 'great', 'best', 'really', 'nice', 'feel', 'thank', 'hate', \n",
    "                             'love', 'beautiful', 'bad', 'hard',\n",
    "                             #Day Times\n",
    "                             'today', 'morning', 'day', 'tomorrow', 'early', 'tonight', 'night', 'hour', \n",
    "                             'daily', 'late', 'week']\n",
    "                             \n",
    "                             #Gym Stop Words\n",
    "                             #'workout', 'morning', 'feel', 'day', 'gym', 'tomorrow', 'partner', 'let', \n",
    "                             #'sleep', 'start', 'tonight', 'leg', 'eat', 'early', 'come', 'sore', 'hour', \n",
    "                             #'clothe', 'exercise', 'lost_weight', 'lose', 'play', 'sport', 'know', 'people' \n",
    "                             #'thing', 'think', 'right', 'thank', 'say', 'way', 'try', 'tell', 'lose_weight', \n",
    "                             #'help', 'fat', 'diet', 'food', 'motivation']"
   ]
  },
  {
   "cell_type": "code",
   "execution_count": 24,
   "metadata": {},
   "outputs": [],
   "source": [
    "from sklearn.feature_extraction import text \n",
    "stop_words = text.ENGLISH_STOP_WORDS.union(additional_stop_word_list)"
   ]
  },
  {
   "cell_type": "code",
   "execution_count": 25,
   "metadata": {},
   "outputs": [],
   "source": [
    "num_topics = 3"
   ]
  },
  {
   "cell_type": "code",
   "execution_count": 26,
   "metadata": {},
   "outputs": [],
   "source": [
    "vectorizer = CountVectorizer(analyzer='word', max_features=100000, stop_words=stop_words)\n",
    "tweet_counts = vectorizer.fit_transform(string_tweets)"
   ]
  },
  {
   "cell_type": "code",
   "execution_count": 27,
   "metadata": {},
   "outputs": [],
   "source": [
    "transformer = TfidfTransformer(smooth_idf=False);\n",
    "tweet_tfidf = transformer.fit_transform(tweet_counts)"
   ]
  },
  {
   "cell_type": "code",
   "execution_count": 28,
   "metadata": {},
   "outputs": [],
   "source": [
    "tweet_tfidf_norm = normalize(tweet_tfidf, norm='l1', axis=1)"
   ]
  },
  {
   "cell_type": "code",
   "execution_count": 29,
   "metadata": {},
   "outputs": [],
   "source": [
    "nmf = NMF(n_components=num_topics, init='nndsvd')"
   ]
  },
  {
   "cell_type": "code",
   "execution_count": 30,
   "metadata": {},
   "outputs": [
    {
     "data": {
      "text/plain": [
       "NMF(alpha=0.0, beta_loss='frobenius', init='nndsvd', l1_ratio=0.0,\n",
       "  max_iter=200, n_components=3, random_state=None, shuffle=False,\n",
       "  solver='cd', tol=0.0001, verbose=0)"
      ]
     },
     "execution_count": 30,
     "metadata": {},
     "output_type": "execute_result"
    }
   ],
   "source": [
    "nmf.fit(tweet_tfidf_norm)"
   ]
  },
  {
   "cell_type": "code",
   "execution_count": 31,
   "metadata": {},
   "outputs": [],
   "source": [
    "top_words = 20\n",
    "feature_names = vectorizer.get_feature_names()\n",
    "topic_dict = {}\n",
    "for i in range(num_topics):\n",
    "    word_idx = nmf.components_[i].argsort()[:-top_words-1:-1] \n",
    "    words = [feature_names[idx] for idx in word_idx]\n",
    "    topic_dict['Topic # ' + '{:02d}'.format(i+1)] = words"
   ]
  },
  {
   "cell_type": "markdown",
   "metadata": {},
   "source": [
    "**Topic 1 and 2 are garbage. These topics are covering the tweets that accounts put out to appear real**"
   ]
  },
  {
   "cell_type": "code",
   "execution_count": 32,
   "metadata": {},
   "outputs": [],
   "source": [
    "topic_names = ['exercise', 'exercise', 'political/news']"
   ]
  },
  {
   "cell_type": "code",
   "execution_count": 33,
   "metadata": {},
   "outputs": [
    {
     "data": {
      "text/html": [
       "<div>\n",
       "<style scoped>\n",
       "    .dataframe tbody tr th:only-of-type {\n",
       "        vertical-align: middle;\n",
       "    }\n",
       "\n",
       "    .dataframe tbody tr th {\n",
       "        vertical-align: top;\n",
       "    }\n",
       "\n",
       "    .dataframe thead th {\n",
       "        text-align: right;\n",
       "    }\n",
       "</style>\n",
       "<table border=\"1\" class=\"dataframe\">\n",
       "  <thead>\n",
       "    <tr style=\"text-align: right;\">\n",
       "      <th></th>\n",
       "      <th>Topic # 01</th>\n",
       "      <th>Topic # 02</th>\n",
       "      <th>Topic # 03</th>\n",
       "    </tr>\n",
       "  </thead>\n",
       "  <tbody>\n",
       "    <tr>\n",
       "      <th>0</th>\n",
       "      <td>workout</td>\n",
       "      <td>news</td>\n",
       "      <td>exercise</td>\n",
       "    </tr>\n",
       "    <tr>\n",
       "      <th>1</th>\n",
       "      <td>gym</td>\n",
       "      <td>trump</td>\n",
       "      <td>eat</td>\n",
       "    </tr>\n",
       "    <tr>\n",
       "      <th>2</th>\n",
       "      <td>partner</td>\n",
       "      <td>local</td>\n",
       "      <td>right</td>\n",
       "    </tr>\n",
       "    <tr>\n",
       "      <th>3</th>\n",
       "      <td>kill</td>\n",
       "      <td>man</td>\n",
       "      <td>diet</td>\n",
       "    </tr>\n",
       "    <tr>\n",
       "      <th>4</th>\n",
       "      <td>sleep</td>\n",
       "      <td>police</td>\n",
       "      <td>run</td>\n",
       "    </tr>\n",
       "    <tr>\n",
       "      <th>5</th>\n",
       "      <td>leg</td>\n",
       "      <td>kill</td>\n",
       "      <td>walk</td>\n",
       "    </tr>\n",
       "    <tr>\n",
       "      <th>6</th>\n",
       "      <td>eat</td>\n",
       "      <td>politic</td>\n",
       "      <td>people</td>\n",
       "    </tr>\n",
       "    <tr>\n",
       "      <th>7</th>\n",
       "      <td>sore</td>\n",
       "      <td>state</td>\n",
       "      <td>ball</td>\n",
       "    </tr>\n",
       "    <tr>\n",
       "      <th>8</th>\n",
       "      <td>ass</td>\n",
       "      <td>shoot</td>\n",
       "      <td>lose_weight</td>\n",
       "    </tr>\n",
       "    <tr>\n",
       "      <th>9</th>\n",
       "      <td>clothe</td>\n",
       "      <td>politics</td>\n",
       "      <td>fat</td>\n",
       "    </tr>\n",
       "    <tr>\n",
       "      <th>10</th>\n",
       "      <td>run</td>\n",
       "      <td>obama</td>\n",
       "      <td>life</td>\n",
       "    </tr>\n",
       "    <tr>\n",
       "      <th>11</th>\n",
       "      <td>shower</td>\n",
       "      <td>woman</td>\n",
       "      <td>sleep</td>\n",
       "    </tr>\n",
       "    <tr>\n",
       "      <th>12</th>\n",
       "      <td>right</td>\n",
       "      <td>sport</td>\n",
       "      <td>body</td>\n",
       "    </tr>\n",
       "    <tr>\n",
       "      <th>13</th>\n",
       "      <td>plan</td>\n",
       "      <td>sports</td>\n",
       "      <td>extra_fry</td>\n",
       "    </tr>\n",
       "    <tr>\n",
       "      <th>14</th>\n",
       "      <td>life</td>\n",
       "      <td>attack</td>\n",
       "      <td>fun</td>\n",
       "    </tr>\n",
       "    <tr>\n",
       "      <th>15</th>\n",
       "      <td>tired</td>\n",
       "      <td>president</td>\n",
       "      <td>tired</td>\n",
       "    </tr>\n",
       "    <tr>\n",
       "      <th>16</th>\n",
       "      <td>finish</td>\n",
       "      <td>topnew</td>\n",
       "      <td>food</td>\n",
       "    </tr>\n",
       "    <tr>\n",
       "      <th>17</th>\n",
       "      <td>wake</td>\n",
       "      <td>break</td>\n",
       "      <td>healthy</td>\n",
       "    </tr>\n",
       "    <tr>\n",
       "      <th>18</th>\n",
       "      <td>girl</td>\n",
       "      <td>topnews</td>\n",
       "      <td>twice</td>\n",
       "    </tr>\n",
       "    <tr>\n",
       "      <th>19</th>\n",
       "      <td>music</td>\n",
       "      <td>business</td>\n",
       "      <td>lazy</td>\n",
       "    </tr>\n",
       "  </tbody>\n",
       "</table>\n",
       "</div>"
      ],
      "text/plain": [
       "   Topic # 01 Topic # 02   Topic # 03\n",
       "0     workout       news     exercise\n",
       "1         gym      trump          eat\n",
       "2     partner      local        right\n",
       "3        kill        man         diet\n",
       "4       sleep     police          run\n",
       "5         leg       kill         walk\n",
       "6         eat    politic       people\n",
       "7        sore      state         ball\n",
       "8         ass      shoot  lose_weight\n",
       "9      clothe   politics          fat\n",
       "10        run      obama         life\n",
       "11     shower      woman        sleep\n",
       "12      right      sport         body\n",
       "13       plan     sports    extra_fry\n",
       "14       life     attack          fun\n",
       "15      tired  president        tired\n",
       "16     finish     topnew         food\n",
       "17       wake      break      healthy\n",
       "18       girl    topnews        twice\n",
       "19      music   business         lazy"
      ]
     },
     "execution_count": 33,
     "metadata": {},
     "output_type": "execute_result"
    }
   ],
   "source": [
    "pd.DataFrame(topic_dict)"
   ]
  },
  {
   "cell_type": "code",
   "execution_count": 34,
   "metadata": {},
   "outputs": [
    {
     "name": "stdout",
     "output_type": "stream",
     "text": [
      "done in 0.872s.\n"
     ]
    }
   ],
   "source": [
    "t0 = time()\n",
    "docweights = nmf.transform(tweet_tfidf)\n",
    "print(\"done in %0.3fs.\" % (time() - t0))"
   ]
  },
  {
   "cell_type": "code",
   "execution_count": 35,
   "metadata": {},
   "outputs": [],
   "source": [
    "topic_df = pd.DataFrame({'topic':docweights.argmax(axis=1),\n",
    "                         'tweet': string_tweets},\n",
    "                  columns=['topic', 'tweet'])"
   ]
  },
  {
   "cell_type": "code",
   "execution_count": 36,
   "metadata": {},
   "outputs": [
    {
     "data": {
      "text/html": [
       "<div>\n",
       "<style scoped>\n",
       "    .dataframe tbody tr th:only-of-type {\n",
       "        vertical-align: middle;\n",
       "    }\n",
       "\n",
       "    .dataframe tbody tr th {\n",
       "        vertical-align: top;\n",
       "    }\n",
       "\n",
       "    .dataframe thead th {\n",
       "        text-align: right;\n",
       "    }\n",
       "</style>\n",
       "<table border=\"1\" class=\"dataframe\">\n",
       "  <thead>\n",
       "    <tr style=\"text-align: right;\">\n",
       "      <th></th>\n",
       "      <th>topic</th>\n",
       "      <th>tweet</th>\n",
       "    </tr>\n",
       "  </thead>\n",
       "  <tbody>\n",
       "    <tr>\n",
       "      <th>3012</th>\n",
       "      <td>0</td>\n",
       "      <td>morning mariner musing manager scott_servai ex...</td>\n",
       "    </tr>\n",
       "    <tr>\n",
       "      <th>3400</th>\n",
       "      <td>0</td>\n",
       "      <td>mariner morning report the first day full squa...</td>\n",
       "    </tr>\n",
       "    <tr>\n",
       "      <th>6180</th>\n",
       "      <td>0</td>\n",
       "      <td>oso year later</td>\n",
       "    </tr>\n",
       "    <tr>\n",
       "      <th>8247</th>\n",
       "      <td>0</td>\n",
       "      <td>mayorsign</td>\n",
       "    </tr>\n",
       "    <tr>\n",
       "      <th>12147</th>\n",
       "      <td>0</td>\n",
       "      <td>sthelenclimber</td>\n",
       "    </tr>\n",
       "  </tbody>\n",
       "</table>\n",
       "</div>"
      ],
      "text/plain": [
       "       topic                                              tweet\n",
       "3012       0  morning mariner musing manager scott_servai ex...\n",
       "3400       0  mariner morning report the first day full squa...\n",
       "6180       0                                     oso year later\n",
       "8247       0                                          mayorsign\n",
       "12147      0                                     sthelenclimber"
      ]
     },
     "execution_count": 36,
     "metadata": {},
     "output_type": "execute_result"
    }
   ],
   "source": [
    "topic_df[topic_df.topic==0].head()"
   ]
  },
  {
   "cell_type": "code",
   "execution_count": 37,
   "metadata": {},
   "outputs": [
    {
     "data": {
      "text/html": [
       "<div>\n",
       "<style scoped>\n",
       "    .dataframe tbody tr th:only-of-type {\n",
       "        vertical-align: middle;\n",
       "    }\n",
       "\n",
       "    .dataframe tbody tr th {\n",
       "        vertical-align: top;\n",
       "    }\n",
       "\n",
       "    .dataframe thead th {\n",
       "        text-align: right;\n",
       "    }\n",
       "</style>\n",
       "<table border=\"1\" class=\"dataframe\">\n",
       "  <thead>\n",
       "    <tr style=\"text-align: right;\">\n",
       "      <th></th>\n",
       "      <th>topic</th>\n",
       "      <th>tweet</th>\n",
       "    </tr>\n",
       "  </thead>\n",
       "  <tbody>\n",
       "    <tr>\n",
       "      <th>0</th>\n",
       "      <td>1</td>\n",
       "      <td>israeli police say palestinian home west bank ...</td>\n",
       "    </tr>\n",
       "    <tr>\n",
       "      <th>1</th>\n",
       "      <td>1</td>\n",
       "      <td>former iaaf chief lamine diack face new corrup...</td>\n",
       "    </tr>\n",
       "    <tr>\n",
       "      <th>2</th>\n",
       "      <td>1</td>\n",
       "      <td>spacex_launch rocket month after accident then...</td>\n",
       "    </tr>\n",
       "    <tr>\n",
       "      <th>3</th>\n",
       "      <td>1</td>\n",
       "      <td>the late fatality fear crash arkansa news #news</td>\n",
       "    </tr>\n",
       "    <tr>\n",
       "      <th>4</th>\n",
       "      <td>1</td>\n",
       "      <td>danish graceland museum change name after laws...</td>\n",
       "    </tr>\n",
       "  </tbody>\n",
       "</table>\n",
       "</div>"
      ],
      "text/plain": [
       "   topic                                              tweet\n",
       "0      1  israeli police say palestinian home west bank ...\n",
       "1      1  former iaaf chief lamine diack face new corrup...\n",
       "2      1  spacex_launch rocket month after accident then...\n",
       "3      1    the late fatality fear crash arkansa news #news\n",
       "4      1  danish graceland museum change name after laws..."
      ]
     },
     "execution_count": 37,
     "metadata": {},
     "output_type": "execute_result"
    }
   ],
   "source": [
    "topic_df[topic_df.topic==1].head()"
   ]
  },
  {
   "cell_type": "code",
   "execution_count": 38,
   "metadata": {},
   "outputs": [],
   "source": [
    "true_topic_df = topic_df[topic_df.topic==1]"
   ]
  },
  {
   "cell_type": "code",
   "execution_count": 39,
   "metadata": {},
   "outputs": [],
   "source": [
    "true_tweet_counts = vectorizer.fit_transform(true_topic_df.tweet)\n",
    "true_tweet_tfidf = transformer.fit_transform(true_tweet_counts)"
   ]
  },
  {
   "cell_type": "code",
   "execution_count": 40,
   "metadata": {},
   "outputs": [],
   "source": [
    "true_tweet_tfidf_norm = normalize(true_tweet_tfidf, norm='l1', axis=1)"
   ]
  },
  {
   "cell_type": "code",
   "execution_count": 41,
   "metadata": {},
   "outputs": [
    {
     "data": {
      "text/plain": [
       "NMF(alpha=0.0, beta_loss='frobenius', init='nndsvd', l1_ratio=0.0,\n",
       "  max_iter=200, n_components=5, random_state=None, shuffle=False,\n",
       "  solver='cd', tol=0.0001, verbose=0)"
      ]
     },
     "execution_count": 41,
     "metadata": {},
     "output_type": "execute_result"
    }
   ],
   "source": [
    "num_topics = 5\n",
    "nmf = NMF(n_components=num_topics, init='nndsvd')\n",
    "nmf.fit(true_tweet_tfidf_norm)"
   ]
  },
  {
   "cell_type": "code",
   "execution_count": 42,
   "metadata": {},
   "outputs": [],
   "source": [
    "top_words = 20\n",
    "feature_names = vectorizer.get_feature_names()\n",
    "topic_dict = {}\n",
    "for i in range(num_topics):\n",
    "    word_idx = nmf.components_[i].argsort()[:-top_words-1:-1] \n",
    "    words = [feature_names[idx] for idx in word_idx]\n",
    "    topic_dict['Topic # ' + '{:02d}'.format(i+1)] = words"
   ]
  },
  {
   "cell_type": "code",
   "execution_count": 43,
   "metadata": {},
   "outputs": [],
   "source": [
    "topic_names = ['news', 'right', 'left', 'police/news', 'right']"
   ]
  },
  {
   "cell_type": "code",
   "execution_count": 44,
   "metadata": {},
   "outputs": [
    {
     "data": {
      "text/html": [
       "<div>\n",
       "<style scoped>\n",
       "    .dataframe tbody tr th:only-of-type {\n",
       "        vertical-align: middle;\n",
       "    }\n",
       "\n",
       "    .dataframe tbody tr th {\n",
       "        vertical-align: top;\n",
       "    }\n",
       "\n",
       "    .dataframe thead th {\n",
       "        text-align: right;\n",
       "    }\n",
       "</style>\n",
       "<table border=\"1\" class=\"dataframe\">\n",
       "  <thead>\n",
       "    <tr style=\"text-align: right;\">\n",
       "      <th></th>\n",
       "      <th>Topic # 01</th>\n",
       "      <th>Topic # 02</th>\n",
       "      <th>Topic # 03</th>\n",
       "      <th>Topic # 04</th>\n",
       "      <th>Topic # 05</th>\n",
       "    </tr>\n",
       "  </thead>\n",
       "  <tbody>\n",
       "    <tr>\n",
       "      <th>0</th>\n",
       "      <td>news</td>\n",
       "      <td>trump</td>\n",
       "      <td>blacklivesmatter</td>\n",
       "      <td>man</td>\n",
       "      <td>people</td>\n",
       "    </tr>\n",
       "    <tr>\n",
       "      <th>1</th>\n",
       "      <td>state</td>\n",
       "      <td>president</td>\n",
       "      <td>black</td>\n",
       "      <td>local</td>\n",
       "      <td>black</td>\n",
       "    </tr>\n",
       "    <tr>\n",
       "      <th>2</th>\n",
       "      <td>topnews</td>\n",
       "      <td>donald</td>\n",
       "      <td>blacktwitter</td>\n",
       "      <td>police</td>\n",
       "      <td>white</td>\n",
       "    </tr>\n",
       "    <tr>\n",
       "      <th>3</th>\n",
       "      <td>topnew</td>\n",
       "      <td>politic</td>\n",
       "      <td>blm</td>\n",
       "      <td>sports</td>\n",
       "      <td>right</td>\n",
       "    </tr>\n",
       "    <tr>\n",
       "      <th>4</th>\n",
       "      <td>fake</td>\n",
       "      <td>break</td>\n",
       "      <td>staywoke</td>\n",
       "      <td>woman</td>\n",
       "      <td>god</td>\n",
       "    </tr>\n",
       "    <tr>\n",
       "      <th>5</th>\n",
       "      <td>kill</td>\n",
       "      <td>obama</td>\n",
       "      <td>blackskinisnotacrime</td>\n",
       "      <td>shoot</td>\n",
       "      <td>obama</td>\n",
       "    </tr>\n",
       "    <tr>\n",
       "      <th>6</th>\n",
       "      <td>syria</td>\n",
       "      <td>hillary</td>\n",
       "      <td>racism</td>\n",
       "      <td>kill</td>\n",
       "      <td>music</td>\n",
       "    </tr>\n",
       "    <tr>\n",
       "      <th>7</th>\n",
       "      <td>attack</td>\n",
       "      <td>clinton</td>\n",
       "      <td>policebrutality</td>\n",
       "      <td>sport</td>\n",
       "      <td>life</td>\n",
       "    </tr>\n",
       "    <tr>\n",
       "      <th>8</th>\n",
       "      <td>local</td>\n",
       "      <td>maga</td>\n",
       "      <td>cop</td>\n",
       "      <td>politics</td>\n",
       "      <td>vote</td>\n",
       "    </tr>\n",
       "    <tr>\n",
       "      <th>9</th>\n",
       "      <td>china</td>\n",
       "      <td>vote</td>\n",
       "      <td>support</td>\n",
       "      <td>arrest</td>\n",
       "      <td>american</td>\n",
       "    </tr>\n",
       "    <tr>\n",
       "      <th>10</th>\n",
       "      <td>report</td>\n",
       "      <td>supporter</td>\n",
       "      <td>blacktolive</td>\n",
       "      <td>black</td>\n",
       "      <td>hillary</td>\n",
       "    </tr>\n",
       "    <tr>\n",
       "      <th>11</th>\n",
       "      <td>islamic</td>\n",
       "      <td>win</td>\n",
       "      <td>alllivesmatter</td>\n",
       "      <td>charge</td>\n",
       "      <td>stop</td>\n",
       "    </tr>\n",
       "    <tr>\n",
       "      <th>12</th>\n",
       "      <td>politic</td>\n",
       "      <td>gop</td>\n",
       "      <td>movement</td>\n",
       "      <td>officer</td>\n",
       "      <td>kill</td>\n",
       "    </tr>\n",
       "    <tr>\n",
       "      <th>13</th>\n",
       "      <td>business</td>\n",
       "      <td>politics</td>\n",
       "      <td>matter</td>\n",
       "      <td>politic</td>\n",
       "      <td>maga</td>\n",
       "    </tr>\n",
       "    <tr>\n",
       "      <th>14</th>\n",
       "      <td>obama</td>\n",
       "      <td>liberal</td>\n",
       "      <td>racist</td>\n",
       "      <td>miami</td>\n",
       "      <td>care</td>\n",
       "    </tr>\n",
       "    <tr>\n",
       "      <th>15</th>\n",
       "      <td>texas</td>\n",
       "      <td>poll</td>\n",
       "      <td>life</td>\n",
       "      <td>break</td>\n",
       "      <td>believe</td>\n",
       "    </tr>\n",
       "    <tr>\n",
       "      <th>16</th>\n",
       "      <td>chicago</td>\n",
       "      <td>support</td>\n",
       "      <td>police</td>\n",
       "      <td>dead</td>\n",
       "      <td>tcot</td>\n",
       "    </tr>\n",
       "    <tr>\n",
       "      <th>17</th>\n",
       "      <td>kansa</td>\n",
       "      <td>american</td>\n",
       "      <td>stop</td>\n",
       "      <td>suspect</td>\n",
       "      <td>wrong</td>\n",
       "    </tr>\n",
       "    <tr>\n",
       "      <th>18</th>\n",
       "      <td>russia</td>\n",
       "      <td>campaign</td>\n",
       "      <td>right</td>\n",
       "      <td>health</td>\n",
       "      <td>live</td>\n",
       "    </tr>\n",
       "    <tr>\n",
       "      <th>19</th>\n",
       "      <td>fox</td>\n",
       "      <td>attack</td>\n",
       "      <td>justice</td>\n",
       "      <td>death</td>\n",
       "      <td>country</td>\n",
       "    </tr>\n",
       "  </tbody>\n",
       "</table>\n",
       "</div>"
      ],
      "text/plain": [
       "   Topic # 01 Topic # 02            Topic # 03 Topic # 04 Topic # 05\n",
       "0        news      trump      blacklivesmatter        man     people\n",
       "1       state  president                 black      local      black\n",
       "2     topnews     donald          blacktwitter     police      white\n",
       "3      topnew    politic                   blm     sports      right\n",
       "4        fake      break              staywoke      woman        god\n",
       "5        kill      obama  blackskinisnotacrime      shoot      obama\n",
       "6       syria    hillary                racism       kill      music\n",
       "7      attack    clinton       policebrutality      sport       life\n",
       "8       local       maga                   cop   politics       vote\n",
       "9       china       vote               support     arrest   american\n",
       "10     report  supporter           blacktolive      black    hillary\n",
       "11    islamic        win        alllivesmatter     charge       stop\n",
       "12    politic        gop              movement    officer       kill\n",
       "13   business   politics                matter    politic       maga\n",
       "14      obama    liberal                racist      miami       care\n",
       "15      texas       poll                  life      break    believe\n",
       "16    chicago    support                police       dead       tcot\n",
       "17      kansa   american                  stop    suspect      wrong\n",
       "18     russia   campaign                 right     health       live\n",
       "19        fox     attack               justice      death    country"
      ]
     },
     "execution_count": 44,
     "metadata": {},
     "output_type": "execute_result"
    }
   ],
   "source": [
    "pd.DataFrame(topic_dict)"
   ]
  },
  {
   "cell_type": "code",
   "execution_count": 45,
   "metadata": {},
   "outputs": [
    {
     "name": "stdout",
     "output_type": "stream",
     "text": [
      "done in 1.620s.\n"
     ]
    }
   ],
   "source": [
    "t0 = time()\n",
    "docweights = nmf.transform(true_tweet_tfidf)\n",
    "print(\"done in %0.3fs.\" % (time() - t0))"
   ]
  },
  {
   "cell_type": "code",
   "execution_count": 46,
   "metadata": {},
   "outputs": [],
   "source": [
    "true_topic_df = pd.DataFrame({'topic':docweights.argmax(axis=1),\n",
    "                              'tweet': true_topic_df.tweet},\n",
    "                               columns=['topic', 'tweet'])"
   ]
  },
  {
   "cell_type": "code",
   "execution_count": 50,
   "metadata": {},
   "outputs": [
    {
     "data": {
      "text/plain": [
       "'israeli police say palestinian home west bank attack news #news'"
      ]
     },
     "execution_count": 50,
     "metadata": {},
     "output_type": "execute_result"
    }
   ],
   "source": [
    "true_topic_df.tweet[0]\n"
   ]
  },
  {
   "cell_type": "code",
   "execution_count": 51,
   "metadata": {},
   "outputs": [],
   "source": [
    "true_df = full_df.merge(true_topic_df, how='right', right_index=True, left_index=True)"
   ]
  },
  {
   "cell_type": "code",
   "execution_count": 53,
   "metadata": {},
   "outputs": [
    {
     "data": {
      "text/html": [
       "<div>\n",
       "<style scoped>\n",
       "    .dataframe tbody tr th:only-of-type {\n",
       "        vertical-align: middle;\n",
       "    }\n",
       "\n",
       "    .dataframe tbody tr th {\n",
       "        vertical-align: top;\n",
       "    }\n",
       "\n",
       "    .dataframe thead th {\n",
       "        text-align: right;\n",
       "    }\n",
       "</style>\n",
       "<table border=\"1\" class=\"dataframe\">\n",
       "  <thead>\n",
       "    <tr style=\"text-align: right;\">\n",
       "      <th></th>\n",
       "      <th>author_x</th>\n",
       "      <th>content_x</th>\n",
       "      <th>region</th>\n",
       "      <th>language</th>\n",
       "      <th>publish_date</th>\n",
       "      <th>following</th>\n",
       "      <th>followers</th>\n",
       "      <th>updates</th>\n",
       "      <th>post_type</th>\n",
       "      <th>account_type</th>\n",
       "      <th>retweet</th>\n",
       "      <th>account_category</th>\n",
       "      <th>new_june_2018</th>\n",
       "      <th>tweet_id</th>\n",
       "      <th>author_y</th>\n",
       "      <th>content_y</th>\n",
       "      <th>hashtags</th>\n",
       "      <th>mentions</th>\n",
       "      <th>topic</th>\n",
       "      <th>tweet</th>\n",
       "    </tr>\n",
       "  </thead>\n",
       "  <tbody>\n",
       "    <tr>\n",
       "      <th>0</th>\n",
       "      <td>SEATTLE_POST</td>\n",
       "      <td>israeli police say palestinian home in west ba...</td>\n",
       "      <td>United States</td>\n",
       "      <td>English</td>\n",
       "      <td>2015-12-22 10:49:00</td>\n",
       "      <td>4887</td>\n",
       "      <td>12659</td>\n",
       "      <td>15470</td>\n",
       "      <td>NaN</td>\n",
       "      <td>local</td>\n",
       "      <td>0</td>\n",
       "      <td>NewsFeed</td>\n",
       "      <td>0</td>\n",
       "      <td>679252328986238977</td>\n",
       "      <td>SEATTLE_POST</td>\n",
       "      <td>Israeli police say Palestinian home in West Ba...</td>\n",
       "      <td>{news}</td>\n",
       "      <td>[]</td>\n",
       "      <td>0</td>\n",
       "      <td>israeli police say palestinian home west bank ...</td>\n",
       "    </tr>\n",
       "    <tr>\n",
       "      <th>1</th>\n",
       "      <td>SEATTLE_POST</td>\n",
       "      <td>former iaaf chief lamine diack faces new corru...</td>\n",
       "      <td>United States</td>\n",
       "      <td>English</td>\n",
       "      <td>2015-12-22 11:16:00</td>\n",
       "      <td>4887</td>\n",
       "      <td>12659</td>\n",
       "      <td>15471</td>\n",
       "      <td>NaN</td>\n",
       "      <td>local</td>\n",
       "      <td>0</td>\n",
       "      <td>NewsFeed</td>\n",
       "      <td>0</td>\n",
       "      <td>679259242541395972</td>\n",
       "      <td>SEATTLE_POST</td>\n",
       "      <td>Former IAAF chief Lamine Diack faces new corru...</td>\n",
       "      <td>{sports}</td>\n",
       "      <td>[]</td>\n",
       "      <td>3</td>\n",
       "      <td>former iaaf chief lamine diack face new corrup...</td>\n",
       "    </tr>\n",
       "    <tr>\n",
       "      <th>2</th>\n",
       "      <td>SEATTLE_POST</td>\n",
       "      <td>spacex launches rocket  months after accident ...</td>\n",
       "      <td>United States</td>\n",
       "      <td>English</td>\n",
       "      <td>2015-12-22 11:40:00</td>\n",
       "      <td>4887</td>\n",
       "      <td>12659</td>\n",
       "      <td>15472</td>\n",
       "      <td>NaN</td>\n",
       "      <td>local</td>\n",
       "      <td>0</td>\n",
       "      <td>NewsFeed</td>\n",
       "      <td>0</td>\n",
       "      <td>679265189372407808</td>\n",
       "      <td>SEATTLE_POST</td>\n",
       "      <td>SpaceX launches rocket 6 months after accident...</td>\n",
       "      <td>{local}</td>\n",
       "      <td>[]</td>\n",
       "      <td>3</td>\n",
       "      <td>spacex_launch rocket month after accident then...</td>\n",
       "    </tr>\n",
       "    <tr>\n",
       "      <th>3</th>\n",
       "      <td>SEATTLE_POST</td>\n",
       "      <td>the latest fatalities feared in i crash in ark...</td>\n",
       "      <td>United States</td>\n",
       "      <td>English</td>\n",
       "      <td>2015-12-22 12:20:00</td>\n",
       "      <td>4887</td>\n",
       "      <td>12659</td>\n",
       "      <td>15473</td>\n",
       "      <td>NaN</td>\n",
       "      <td>local</td>\n",
       "      <td>0</td>\n",
       "      <td>NewsFeed</td>\n",
       "      <td>0</td>\n",
       "      <td>679275250069078016</td>\n",
       "      <td>SEATTLE_POST</td>\n",
       "      <td>The Latest: Fatalities feared in I-49 crash in...</td>\n",
       "      <td>{news}</td>\n",
       "      <td>[]</td>\n",
       "      <td>0</td>\n",
       "      <td>the late fatality fear crash arkansa news #news</td>\n",
       "    </tr>\n",
       "    <tr>\n",
       "      <th>4</th>\n",
       "      <td>SEATTLE_POST</td>\n",
       "      <td>danish graceland museum changes name after law...</td>\n",
       "      <td>United States</td>\n",
       "      <td>English</td>\n",
       "      <td>2015-12-22 13:07:00</td>\n",
       "      <td>4887</td>\n",
       "      <td>12657</td>\n",
       "      <td>15474</td>\n",
       "      <td>NaN</td>\n",
       "      <td>local</td>\n",
       "      <td>0</td>\n",
       "      <td>NewsFeed</td>\n",
       "      <td>0</td>\n",
       "      <td>679287094682902528</td>\n",
       "      <td>SEATTLE_POST</td>\n",
       "      <td>Danish “Graceland” museum changes name after l...</td>\n",
       "      <td>{entertainment}</td>\n",
       "      <td>[]</td>\n",
       "      <td>3</td>\n",
       "      <td>danish graceland museum change name after laws...</td>\n",
       "    </tr>\n",
       "  </tbody>\n",
       "</table>\n",
       "</div>"
      ],
      "text/plain": [
       "       author_x                                          content_x  \\\n",
       "0  SEATTLE_POST  israeli police say palestinian home in west ba...   \n",
       "1  SEATTLE_POST  former iaaf chief lamine diack faces new corru...   \n",
       "2  SEATTLE_POST  spacex launches rocket  months after accident ...   \n",
       "3  SEATTLE_POST  the latest fatalities feared in i crash in ark...   \n",
       "4  SEATTLE_POST  danish graceland museum changes name after law...   \n",
       "\n",
       "          region language        publish_date  following  followers  updates  \\\n",
       "0  United States  English 2015-12-22 10:49:00       4887      12659    15470   \n",
       "1  United States  English 2015-12-22 11:16:00       4887      12659    15471   \n",
       "2  United States  English 2015-12-22 11:40:00       4887      12659    15472   \n",
       "3  United States  English 2015-12-22 12:20:00       4887      12659    15473   \n",
       "4  United States  English 2015-12-22 13:07:00       4887      12657    15474   \n",
       "\n",
       "  post_type account_type  retweet account_category  new_june_2018  \\\n",
       "0       NaN        local        0         NewsFeed              0   \n",
       "1       NaN        local        0         NewsFeed              0   \n",
       "2       NaN        local        0         NewsFeed              0   \n",
       "3       NaN        local        0         NewsFeed              0   \n",
       "4       NaN        local        0         NewsFeed              0   \n",
       "\n",
       "             tweet_id      author_y  \\\n",
       "0  679252328986238977  SEATTLE_POST   \n",
       "1  679259242541395972  SEATTLE_POST   \n",
       "2  679265189372407808  SEATTLE_POST   \n",
       "3  679275250069078016  SEATTLE_POST   \n",
       "4  679287094682902528  SEATTLE_POST   \n",
       "\n",
       "                                           content_y         hashtags  \\\n",
       "0  Israeli police say Palestinian home in West Ba...           {news}   \n",
       "1  Former IAAF chief Lamine Diack faces new corru...         {sports}   \n",
       "2  SpaceX launches rocket 6 months after accident...          {local}   \n",
       "3  The Latest: Fatalities feared in I-49 crash in...           {news}   \n",
       "4  Danish “Graceland” museum changes name after l...  {entertainment}   \n",
       "\n",
       "  mentions  topic                                              tweet  \n",
       "0       []      0  israeli police say palestinian home west bank ...  \n",
       "1       []      3  former iaaf chief lamine diack face new corrup...  \n",
       "2       []      3  spacex_launch rocket month after accident then...  \n",
       "3       []      0    the late fatality fear crash arkansa news #news  \n",
       "4       []      3  danish graceland museum change name after laws...  "
      ]
     },
     "execution_count": 53,
     "metadata": {},
     "output_type": "execute_result"
    }
   ],
   "source": [
    "true_df.head()"
   ]
  },
  {
   "cell_type": "code",
   "execution_count": 52,
   "metadata": {},
   "outputs": [
    {
     "ename": "AttributeError",
     "evalue": "'DataFrame' object has no attribute 'content'",
     "output_type": "error",
     "traceback": [
      "\u001b[0;31m---------------------------------------------------------------------------\u001b[0m",
      "\u001b[0;31mAttributeError\u001b[0m                            Traceback (most recent call last)",
      "\u001b[0;32m<ipython-input-52-bcb5912cb0dd>\u001b[0m in \u001b[0;36m<module>\u001b[0;34m()\u001b[0m\n\u001b[1;32m      1\u001b[0m \u001b[0manalyser\u001b[0m \u001b[0;34m=\u001b[0m \u001b[0msia\u001b[0m\u001b[0;34m(\u001b[0m\u001b[0;34m)\u001b[0m\u001b[0;34m\u001b[0m\u001b[0m\n\u001b[1;32m      2\u001b[0m \u001b[0msentiment\u001b[0m \u001b[0;34m=\u001b[0m \u001b[0;34m[\u001b[0m\u001b[0;34m]\u001b[0m\u001b[0;34m\u001b[0m\u001b[0m\n\u001b[0;32m----> 3\u001b[0;31m \u001b[0;32mfor\u001b[0m \u001b[0msentence\u001b[0m \u001b[0;32min\u001b[0m \u001b[0mtrue_df\u001b[0m\u001b[0;34m.\u001b[0m\u001b[0mcontent\u001b[0m\u001b[0;34m:\u001b[0m\u001b[0;34m\u001b[0m\u001b[0m\n\u001b[0m\u001b[1;32m      4\u001b[0m     \u001b[0mps\u001b[0m \u001b[0;34m=\u001b[0m \u001b[0manalyser\u001b[0m\u001b[0;34m.\u001b[0m\u001b[0mpolarity_scores\u001b[0m\u001b[0;34m(\u001b[0m\u001b[0msentence\u001b[0m\u001b[0;34m)\u001b[0m\u001b[0;34m\u001b[0m\u001b[0m\n\u001b[1;32m      5\u001b[0m     \u001b[0msentiment\u001b[0m\u001b[0;34m.\u001b[0m\u001b[0mappend\u001b[0m\u001b[0;34m(\u001b[0m\u001b[0mps\u001b[0m\u001b[0;34m[\u001b[0m\u001b[0;34m'compound'\u001b[0m\u001b[0;34m]\u001b[0m\u001b[0;34m)\u001b[0m\u001b[0;34m\u001b[0m\u001b[0m\n",
      "\u001b[0;32m~/anaconda3/lib/python3.7/site-packages/pandas/core/generic.py\u001b[0m in \u001b[0;36m__getattr__\u001b[0;34m(self, name)\u001b[0m\n\u001b[1;32m   4374\u001b[0m             \u001b[0;32mif\u001b[0m \u001b[0mself\u001b[0m\u001b[0;34m.\u001b[0m\u001b[0m_info_axis\u001b[0m\u001b[0;34m.\u001b[0m\u001b[0m_can_hold_identifiers_and_holds_name\u001b[0m\u001b[0;34m(\u001b[0m\u001b[0mname\u001b[0m\u001b[0;34m)\u001b[0m\u001b[0;34m:\u001b[0m\u001b[0;34m\u001b[0m\u001b[0m\n\u001b[1;32m   4375\u001b[0m                 \u001b[0;32mreturn\u001b[0m \u001b[0mself\u001b[0m\u001b[0;34m[\u001b[0m\u001b[0mname\u001b[0m\u001b[0;34m]\u001b[0m\u001b[0;34m\u001b[0m\u001b[0m\n\u001b[0;32m-> 4376\u001b[0;31m             \u001b[0;32mreturn\u001b[0m \u001b[0mobject\u001b[0m\u001b[0;34m.\u001b[0m\u001b[0m__getattribute__\u001b[0m\u001b[0;34m(\u001b[0m\u001b[0mself\u001b[0m\u001b[0;34m,\u001b[0m \u001b[0mname\u001b[0m\u001b[0;34m)\u001b[0m\u001b[0;34m\u001b[0m\u001b[0m\n\u001b[0m\u001b[1;32m   4377\u001b[0m \u001b[0;34m\u001b[0m\u001b[0m\n\u001b[1;32m   4378\u001b[0m     \u001b[0;32mdef\u001b[0m \u001b[0m__setattr__\u001b[0m\u001b[0;34m(\u001b[0m\u001b[0mself\u001b[0m\u001b[0;34m,\u001b[0m \u001b[0mname\u001b[0m\u001b[0;34m,\u001b[0m \u001b[0mvalue\u001b[0m\u001b[0;34m)\u001b[0m\u001b[0;34m:\u001b[0m\u001b[0;34m\u001b[0m\u001b[0m\n",
      "\u001b[0;31mAttributeError\u001b[0m: 'DataFrame' object has no attribute 'content'"
     ]
    }
   ],
   "source": [
    "analyser = sia()\n",
    "sentiment = []\n",
    "for sentence in true_df.content:\n",
    "    ps = analyser.polarity_scores(sentence)\n",
    "    sentiment.append(ps['compound'])\n",
    "    "
   ]
  },
  {
   "cell_type": "code",
   "execution_count": 220,
   "metadata": {},
   "outputs": [],
   "source": [
    "true_df['sentiment'] = sentiment"
   ]
  },
  {
   "cell_type": "code",
   "execution_count": 224,
   "metadata": {},
   "outputs": [],
   "source": [
    "#with open('true_df.pickle', 'wb') as file:\n",
    "#    pickle.dump(true_df, file, protocol=pickle.HIGHEST_PROTOCOL)"
   ]
  },
  {
   "cell_type": "code",
   "execution_count": 222,
   "metadata": {},
   "outputs": [
    {
     "data": {
      "text/html": [
       "<div>\n",
       "<style scoped>\n",
       "    .dataframe tbody tr th:only-of-type {\n",
       "        vertical-align: middle;\n",
       "    }\n",
       "\n",
       "    .dataframe tbody tr th {\n",
       "        vertical-align: top;\n",
       "    }\n",
       "\n",
       "    .dataframe thead th {\n",
       "        text-align: right;\n",
       "    }\n",
       "</style>\n",
       "<table border=\"1\" class=\"dataframe\">\n",
       "  <thead>\n",
       "    <tr style=\"text-align: right;\">\n",
       "      <th></th>\n",
       "      <th>author</th>\n",
       "      <th>content</th>\n",
       "      <th>region</th>\n",
       "      <th>language</th>\n",
       "      <th>publish_date</th>\n",
       "      <th>following</th>\n",
       "      <th>followers</th>\n",
       "      <th>updates</th>\n",
       "      <th>post_type</th>\n",
       "      <th>account_type</th>\n",
       "      <th>retweet</th>\n",
       "      <th>account_category</th>\n",
       "      <th>new_june_2018</th>\n",
       "      <th>tweet_id</th>\n",
       "      <th>topic</th>\n",
       "      <th>tweet</th>\n",
       "      <th>sentiment</th>\n",
       "    </tr>\n",
       "  </thead>\n",
       "  <tbody>\n",
       "    <tr>\n",
       "      <th>0</th>\n",
       "      <td>SEATTLE_POST</td>\n",
       "      <td>israeli police say palestinian home in west ba...</td>\n",
       "      <td>United States</td>\n",
       "      <td>English</td>\n",
       "      <td>2015-12-22 10:49:00</td>\n",
       "      <td>4887</td>\n",
       "      <td>12659</td>\n",
       "      <td>15470</td>\n",
       "      <td>NaN</td>\n",
       "      <td>local</td>\n",
       "      <td>0</td>\n",
       "      <td>NewsFeed</td>\n",
       "      <td>0</td>\n",
       "      <td>679252328986238977</td>\n",
       "      <td>1</td>\n",
       "      <td>israeli police say palestinian home west bank ...</td>\n",
       "      <td>-0.4588</td>\n",
       "    </tr>\n",
       "    <tr>\n",
       "      <th>1</th>\n",
       "      <td>SEATTLE_POST</td>\n",
       "      <td>former iaaf chief lamine diack faces new corru...</td>\n",
       "      <td>United States</td>\n",
       "      <td>English</td>\n",
       "      <td>2015-12-22 11:16:00</td>\n",
       "      <td>4887</td>\n",
       "      <td>12659</td>\n",
       "      <td>15471</td>\n",
       "      <td>NaN</td>\n",
       "      <td>local</td>\n",
       "      <td>0</td>\n",
       "      <td>NewsFeed</td>\n",
       "      <td>0</td>\n",
       "      <td>679259242541395972</td>\n",
       "      <td>4</td>\n",
       "      <td>former iaaf chief lamine diack face new corrup...</td>\n",
       "      <td>-0.2732</td>\n",
       "    </tr>\n",
       "    <tr>\n",
       "      <th>2</th>\n",
       "      <td>SEATTLE_POST</td>\n",
       "      <td>spacex launches rocket  months after accident ...</td>\n",
       "      <td>United States</td>\n",
       "      <td>English</td>\n",
       "      <td>2015-12-22 11:40:00</td>\n",
       "      <td>4887</td>\n",
       "      <td>12659</td>\n",
       "      <td>15472</td>\n",
       "      <td>NaN</td>\n",
       "      <td>local</td>\n",
       "      <td>0</td>\n",
       "      <td>NewsFeed</td>\n",
       "      <td>0</td>\n",
       "      <td>679265189372407808</td>\n",
       "      <td>4</td>\n",
       "      <td>spacex_launch rocket month after accident then...</td>\n",
       "      <td>-0.4767</td>\n",
       "    </tr>\n",
       "    <tr>\n",
       "      <th>3</th>\n",
       "      <td>SEATTLE_POST</td>\n",
       "      <td>the latest fatalities feared in i crash in ark...</td>\n",
       "      <td>United States</td>\n",
       "      <td>English</td>\n",
       "      <td>2015-12-22 12:20:00</td>\n",
       "      <td>4887</td>\n",
       "      <td>12659</td>\n",
       "      <td>15473</td>\n",
       "      <td>NaN</td>\n",
       "      <td>local</td>\n",
       "      <td>0</td>\n",
       "      <td>NewsFeed</td>\n",
       "      <td>0</td>\n",
       "      <td>679275250069078016</td>\n",
       "      <td>1</td>\n",
       "      <td>the late fatality fear crash arkansa news</td>\n",
       "      <td>-0.8689</td>\n",
       "    </tr>\n",
       "    <tr>\n",
       "      <th>4</th>\n",
       "      <td>SEATTLE_POST</td>\n",
       "      <td>danish graceland museum changes name after law...</td>\n",
       "      <td>United States</td>\n",
       "      <td>English</td>\n",
       "      <td>2015-12-22 13:07:00</td>\n",
       "      <td>4887</td>\n",
       "      <td>12657</td>\n",
       "      <td>15474</td>\n",
       "      <td>NaN</td>\n",
       "      <td>local</td>\n",
       "      <td>0</td>\n",
       "      <td>NewsFeed</td>\n",
       "      <td>0</td>\n",
       "      <td>679287094682902528</td>\n",
       "      <td>2</td>\n",
       "      <td>danish graceland museum change name after laws...</td>\n",
       "      <td>0.2263</td>\n",
       "    </tr>\n",
       "  </tbody>\n",
       "</table>\n",
       "</div>"
      ],
      "text/plain": [
       "         author                                            content  \\\n",
       "0  SEATTLE_POST  israeli police say palestinian home in west ba...   \n",
       "1  SEATTLE_POST  former iaaf chief lamine diack faces new corru...   \n",
       "2  SEATTLE_POST  spacex launches rocket  months after accident ...   \n",
       "3  SEATTLE_POST  the latest fatalities feared in i crash in ark...   \n",
       "4  SEATTLE_POST  danish graceland museum changes name after law...   \n",
       "\n",
       "          region language        publish_date  following  followers  updates  \\\n",
       "0  United States  English 2015-12-22 10:49:00       4887      12659    15470   \n",
       "1  United States  English 2015-12-22 11:16:00       4887      12659    15471   \n",
       "2  United States  English 2015-12-22 11:40:00       4887      12659    15472   \n",
       "3  United States  English 2015-12-22 12:20:00       4887      12659    15473   \n",
       "4  United States  English 2015-12-22 13:07:00       4887      12657    15474   \n",
       "\n",
       "  post_type account_type  retweet account_category  new_june_2018  \\\n",
       "0       NaN        local        0         NewsFeed              0   \n",
       "1       NaN        local        0         NewsFeed              0   \n",
       "2       NaN        local        0         NewsFeed              0   \n",
       "3       NaN        local        0         NewsFeed              0   \n",
       "4       NaN        local        0         NewsFeed              0   \n",
       "\n",
       "             tweet_id  topic  \\\n",
       "0  679252328986238977      1   \n",
       "1  679259242541395972      4   \n",
       "2  679265189372407808      4   \n",
       "3  679275250069078016      1   \n",
       "4  679287094682902528      2   \n",
       "\n",
       "                                               tweet  sentiment  \n",
       "0  israeli police say palestinian home west bank ...    -0.4588  \n",
       "1  former iaaf chief lamine diack face new corrup...    -0.2732  \n",
       "2  spacex_launch rocket month after accident then...    -0.4767  \n",
       "3          the late fatality fear crash arkansa news    -0.8689  \n",
       "4  danish graceland museum change name after laws...     0.2263  "
      ]
     },
     "execution_count": 222,
     "metadata": {},
     "output_type": "execute_result"
    }
   ],
   "source": [
    "true_df.head()"
   ]
  },
  {
   "cell_type": "code",
   "execution_count": null,
   "metadata": {},
   "outputs": [],
   "source": []
  },
  {
   "cell_type": "code",
   "execution_count": null,
   "metadata": {},
   "outputs": [],
   "source": []
  },
  {
   "cell_type": "code",
   "execution_count": null,
   "metadata": {},
   "outputs": [],
   "source": []
  },
  {
   "cell_type": "code",
   "execution_count": null,
   "metadata": {},
   "outputs": [],
   "source": []
  },
  {
   "cell_type": "code",
   "execution_count": null,
   "metadata": {},
   "outputs": [],
   "source": []
  },
  {
   "cell_type": "code",
   "execution_count": null,
   "metadata": {},
   "outputs": [],
   "source": []
  },
  {
   "cell_type": "code",
   "execution_count": null,
   "metadata": {},
   "outputs": [],
   "source": []
  }
 ],
 "metadata": {
  "kernelspec": {
   "display_name": "Python 3",
   "language": "python",
   "name": "python3"
  },
  "language_info": {
   "codemirror_mode": {
    "name": "ipython",
    "version": 3
   },
   "file_extension": ".py",
   "mimetype": "text/x-python",
   "name": "python",
   "nbconvert_exporter": "python",
   "pygments_lexer": "ipython3",
   "version": "3.6.6"
  }
 },
 "nbformat": 4,
 "nbformat_minor": 2
}
